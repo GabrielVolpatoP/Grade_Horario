{
 "cells": [
  {
   "cell_type": "code",
   "execution_count": null,
   "id": "d9ee4124-19f2-444f-ba6c-f623f5dcac65",
   "metadata": {
    "scrolled": true
   },
   "outputs": [],
   "source": [
    "import tabula\n",
    "import pdfreader\n",
    "from pdfreader import PDFDocument, SimplePDFViewer\n",
    "from reportlab.lib.pagesizes import letter, landscape\n",
    "from reportlab.pdfgen import canvas\n",
    "from reportlab.lib import colors\n",
    "from reportlab.platypus import SimpleDocTemplate, Table, TableStyle\n",
    "\n",
    "import warnings\n",
    "warnings.filterwarnings(\"ignore\") \n",
    "\n",
    "# Carregando o arquivo PDF\n",
    "lista_tabelas = tabula.read_pdf(\"horario.pdf\", pages = 'all')\n",
    "\n",
    "# Analise da quantas páginas que foram carregadas\n",
    "print(len(lista_tabelas))"
   ]
  },
  {
   "cell_type": "markdown",
   "id": "922d13b2-1c69-460c-80e7-b67132b351b0",
   "metadata": {},
   "source": [
    "# Criação e preenchimento das TABELAS"
   ]
  },
  {
   "cell_type": "code",
   "execution_count": null,
   "id": "548f19a0-6e77-472e-a32f-792c87411dc4",
   "metadata": {},
   "outputs": [],
   "source": [
    "# Obtendo somente a planilha 1 e transcrevendo os valores vazios com \"0 - \\r\"\n",
    "Grade_M = lista_tabelas[0].fillna(value=\"0 - \\r\")\n",
    "\n",
    "# Obtendo somente a planilha 2 e transcrevendo os valores vazios com \"0 - \\r\"\n",
    "Grade_V = lista_tabelas[1].fillna(value=\"0 - \\r\")\n",
    "\n",
    "# 0 - \\r\" serão usados para divisões das colunas futuramente\n",
    "Grade_M = Grade_M.drop('Unnamed: 0', axis = 1)\n",
    "Grade_V = Grade_V.drop('Unnamed: 0', axis = 1)\n",
    "Grade_M = Grade_M.drop('Hr./Aula', axis = 1)\n",
    "Grade_V = Grade_V.drop('Hr./Aula', axis = 1)\n",
    "\n",
    "# Removendo as colunas sobresalentes das planilhas\n",
    "Grade_M.columns = [\"Horario\",1,2,3,4,5]\n",
    "Grade_V.columns = [\"Horario\",1,2,3,4,5]"
   ]
  },
  {
   "cell_type": "markdown",
   "id": "82b0bf1b-105f-45c1-8596-48dd91166814",
   "metadata": {},
   "source": [
    "# TRATAMENTO DAS COLUNAS"
   ]
  },
  {
   "cell_type": "code",
   "execution_count": null,
   "id": "24312f57-fa81-4c87-ba1e-b02d6bb658b1",
   "metadata": {},
   "outputs": [],
   "source": [
    "for h in range (0,5):\n",
    "    Grade_M.iat[h,0] = Grade_M.iat[h,0][:5] + \"\\n\" + Grade_M.iat[h,0][6:]\n",
    "\n",
    "for h in range (0,5):\n",
    "    Grade_V.iat[h,0] = Grade_V.iat[h,0][:5] + \"\\n\" + Grade_V.iat[h,0][6:]"
   ]
  },
  {
   "cell_type": "markdown",
   "id": "dfa2ddac-5be1-4963-928e-5352c48a8cb0",
   "metadata": {},
   "source": [
    "### COLETA DE DADOS DAS DICIPLINAS"
   ]
  },
  {
   "cell_type": "code",
   "execution_count": null,
   "id": "9832cbbe-0919-4e86-9d84-72e9ac265e2d",
   "metadata": {},
   "outputs": [],
   "source": [
    "# Matutino\n",
    "Cod_Disc_M = [[],[],[],[],[]]\n",
    "for i in range(1,6):\n",
    "    Cod_Disc_M[i-1] = Grade_M[i].str.split(\" - \", expand = True)[0]\n",
    "\n",
    "\n",
    "# Vespertino\n",
    "Cod_Disc_V = [[],[],[],[],[]]\n",
    "for i in range(1,6):\n",
    "    Cod_Disc_V[i-1] = Grade_V[i].str.split(\" - \", expand = True)[0]\n"
   ]
  },
  {
   "cell_type": "markdown",
   "id": "47b7b6c2-2445-4d4e-ba14-1157a9b29aaa",
   "metadata": {},
   "source": [
    "### COLETA DE DADOS DAS SALAS"
   ]
  },
  {
   "cell_type": "code",
   "execution_count": null,
   "id": "05f8ad65-7361-430a-ad68-77216f96ec82",
   "metadata": {},
   "outputs": [],
   "source": [
    "# Matutino\n",
    "Cod_Sala_M = [[],[],[],[],[]]\n",
    "for i in range(1,6):\n",
    "    Cod_Sala_M[i-1] = Grade_M[i].str.split(\"\\r\", expand = True)[1]\n",
    "\n",
    "\n",
    "# Vespertino\n",
    "Cod_Sala_V = [[],[],[],[],[]]\n",
    "for i in range(1,6):\n",
    "    Cod_Sala_V[i-1] = Grade_V[i].str.split(\"\\r\", expand = True)[1]\n"
   ]
  },
  {
   "cell_type": "markdown",
   "id": "cc6ad675-d3f3-4e04-b6fe-db29d934d7e0",
   "metadata": {},
   "source": [
    "*FIM DO TRATAMENTO DE COLUNAS*"
   ]
  },
  {
   "cell_type": "markdown",
   "id": "45d2f559-23a1-45ca-98d7-834ce249b9a6",
   "metadata": {},
   "source": [
    "# Coleta *(Lista)* das diciplinas"
   ]
  },
  {
   "cell_type": "code",
   "execution_count": null,
   "id": "c0da9ee1-cdc6-4331-b03a-7109cbdf6da2",
   "metadata": {},
   "outputs": [],
   "source": [
    "#Localizando a tabela com as diciplinas (por padrão a ultima planilha)\n",
    "diciplinas = lista_tabelas[len(lista_tabelas)-1]\n",
    "\n",
    "coluna_diciplina = diciplinas.columns[2]\n",
    "\n",
    "#Preenchendo os valores NULOS (NaN) da coluna de codicos das diciplinas por um valor (qualquer n nulo)\n",
    "diciplinas[diciplinas.columns[0]] = diciplinas[diciplinas.columns[0]].fillna(value=int(1))"
   ]
  },
  {
   "cell_type": "markdown",
   "id": "79a9fe73-9f5c-41e4-8b77-bf0f5304eb66",
   "metadata": {},
   "source": [
    "# Tratamento e associação das tabelas com a lista de diciplinas"
   ]
  },
  {
   "cell_type": "code",
   "execution_count": null,
   "id": "9421e45e-c6bc-4395-9be1-d45f470b3c32",
   "metadata": {},
   "outputs": [],
   "source": [
    "dias = [\"Segunda\",\"Terça\",\"Quarta\",\"Quinta\",\"Sexta\"]\n",
    "\n",
    "Grade_M.columns = ['Horário',]+dias\n",
    "Grade_V.columns = ['Horário',]+dias\n",
    "\n",
    "# Associando os codicos da grade dos dias das semanas com os codicos da tabela de diciplinas\n",
    "for h in range(0,5):\n",
    "    for j in range(0,5):\n",
    "        for x in range(0,len(diciplinas)):\n",
    "            # Caso o dia esteja sem aulas o horario permanece vazio\n",
    "            if int(Cod_Disc_M[h][j]) == 0:\n",
    "                Grade_M[dias[h]][j] = \" \"\n",
    "                break\n",
    "            else:\n",
    "                # Reescrevimento da grade com os nomes das diciplinas\n",
    "                if str(diciplinas.iat[x, 0]) == str(Cod_Disc_M[h][j]):\n",
    "                    Grade_M[dias[h]][j] = diciplinas.iat[x, 2][:17] + \"\\n\" + diciplinas.iat[x, 2][17:] + \" - \" + Cod_Sala_M[h][j]\n",
    "                    break\n",
    "\n",
    "# Associando os codicos da grade dos dias das semanas com os codicos da tabela de diciplinas\n",
    "for h in range(0,5):\n",
    "    for j in range(0,5):\n",
    "        for x in range(0,len(diciplinas)):\n",
    "            # Caso o dia esteja sem aulas o horario permanece vazio\n",
    "            if int(Cod_Disc_V[h][j]) == 0:\n",
    "                Grade_V[dias[h]][j] = \" \"\n",
    "                break\n",
    "            else:\n",
    "                # Reescrevimento da grade com os nomes das diciplinas\n",
    "                if str(diciplinas.iat[x, 0]) == str(Cod_Disc_V[h][j]):\n",
    "                    Grade_V[dias[h]][j] = diciplinas.iat[x, 2][:17] + \"\\n\" + diciplinas.iat[x, 2][17:] + \" - \" + Cod_Sala_V[h][j]\n",
    "                    break\n",
    "\n",
    "titulo_pdf = []\n",
    "for i in Grade_M.columns:\n",
    "    titulo_pdf += i,\n",
    "\n",
    "\n",
    "teste = [titulo_pdf]\n",
    "\n",
    "for j in range(0,len(titulo_pdf)-1):\n",
    "    p0 = []\n",
    "    for i in titulo_pdf:\n",
    "        p0 += (Grade_M[i][j]),\n",
    "    teste += p0,\n",
    "\n",
    "for j in range(0,len(titulo_pdf)-1):\n",
    "    p1 = []\n",
    "    for i in titulo_pdf:\n",
    "        p1 += (Grade_V[i][j]),\n",
    "    teste += p1,\n",
    "\n",
    "def create_pdf(file_name):\n",
    "    \n",
    "    page_size = landscape(letter)\n",
    "    \n",
    "    # Cria um documento\n",
    "    doc = SimpleDocTemplate(file_name, pagesize=page_size)\n",
    "    \n",
    "    # Lista de elementos a serem adicionados ao documento\n",
    "    elements = []\n",
    "\n",
    "    # Define os dados da tabela\n",
    "    horario_pdf = [teste]\n",
    "    \n",
    "    # Cria a tabela\n",
    "    def_tab = 140\n",
    "    table_dias = Table(teste, colWidths = [48, def_tab, def_tab, def_tab, def_tab, def_tab])\n",
    "    \n",
    "    # Define o estilo da tabela\n",
    "    style = TableStyle([\n",
    "        ('BACKGROUND', (0, 0), (-1, 0), colors.grey),\n",
    "        ('TEXTCOLOR', (0, 0), (-1, 0), colors.whitesmoke),\n",
    "        ('ALIGN', (0, 0), (-1, -1), 'CENTER'),\n",
    "        ('FONTNAME', (0, 0), (-1, 0), 'Helvetica-Bold'),\n",
    "        ('BOTTOMPADDING', (0, 0), (-1, 0), 12),\n",
    "        ('BACKGROUND', (0, 1), (-1, -1), colors.whitesmoke),\n",
    "        ('GRID', (0, 0), (-1, -1), 1, colors.black),\n",
    "        ('FONTSIZE', (1, 1), (-1, -1), 8),\n",
    "        ('FONTSIZE', (0, 1), (0, -1), 9),\n",
    "    ])\n",
    "    table_dias.setStyle(style)\n",
    "    \n",
    "    # Adiciona a tabela à lista de elementos\n",
    "    #elements.append(table)\n",
    "    elements.append(table_dias)\n",
    "    \n",
    "    # Constrói o documento\n",
    "    doc.build(elements)\n",
    "\n",
    "if __name__ == \"__main__\":\n",
    "    create_pdf(\"Primeiro_Semestre.pdf\")\n"
   ]
  }
 ],
 "metadata": {
  "kernelspec": {
   "display_name": "Python 3 (ipykernel)",
   "language": "python",
   "name": "python3"
  },
  "language_info": {
   "codemirror_mode": {
    "name": "ipython",
    "version": 3
   },
   "file_extension": ".py",
   "mimetype": "text/x-python",
   "name": "python",
   "nbconvert_exporter": "python",
   "pygments_lexer": "ipython3",
   "version": "3.12.9"
  }
 },
 "nbformat": 4,
 "nbformat_minor": 5
}
