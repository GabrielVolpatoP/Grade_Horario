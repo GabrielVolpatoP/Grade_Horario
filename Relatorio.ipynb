{
 "cells": [
  {
   "cell_type": "code",
   "execution_count": 3,
   "id": "daffebdc-531e-4e27-93e3-63da9601c490",
   "metadata": {},
   "outputs": [
    {
     "ename": "ModuleNotFoundError",
     "evalue": "No module named 'tabula'",
     "output_type": "error",
     "traceback": [
      "\u001b[1;31m---------------------------------------------------------------------------\u001b[0m",
      "\u001b[1;31mModuleNotFoundError\u001b[0m                       Traceback (most recent call last)",
      "Cell \u001b[1;32mIn[3], line 1\u001b[0m\n\u001b[1;32m----> 1\u001b[0m \u001b[39mimport\u001b[39;00m \u001b[39mtabula\u001b[39;00m\n\u001b[0;32m      2\u001b[0m \u001b[39mimport\u001b[39;00m \u001b[39mpdfreader\u001b[39;00m\n\u001b[0;32m      3\u001b[0m \u001b[39mfrom\u001b[39;00m \u001b[39mpdfreader\u001b[39;00m \u001b[39mimport\u001b[39;00m PDFDocument, SimplePDFViewer\n",
      "\u001b[1;31mModuleNotFoundError\u001b[0m: No module named 'tabula'"
     ]
    }
   ],
   "source": [
    "import tabula\n",
    "import pdfreader\n",
    "from pdfreader import PDFDocument, SimplePDFViewer\n",
    "from reportlab.lib.pagesizes import letter, landscape\n",
    "from reportlab.pdfgen import canvas\n",
    "from reportlab.lib import colors\n",
    "from reportlab.platypus import SimpleDocTemplate, Table, TableStyle\n",
    "\n",
    "import warnings\n",
    "warnings.filterwarnings(\"ignore\") "
   ]
  },
  {
   "cell_type": "code",
   "execution_count": 4,
   "id": "272b2656-8948-48c4-8db5-1aa4b05a6983",
   "metadata": {},
   "outputs": [
    {
     "ename": "NameError",
     "evalue": "name 'tabula' is not defined",
     "output_type": "error",
     "traceback": [
      "\u001b[1;31m---------------------------------------------------------------------------\u001b[0m",
      "\u001b[1;31mNameError\u001b[0m                                 Traceback (most recent call last)",
      "Cell \u001b[1;32mIn[4], line 2\u001b[0m\n\u001b[0;32m      1\u001b[0m \u001b[39m# Carregando o arquivo PDF\u001b[39;00m\n\u001b[1;32m----> 2\u001b[0m lista_tabelas \u001b[39m=\u001b[39m tabula\u001b[39m.\u001b[39mread_pdf(\u001b[39m\"\u001b[39m\u001b[39mRelat_3.pdf\u001b[39m\u001b[39m\"\u001b[39m, pages \u001b[39m=\u001b[39m \u001b[39m'\u001b[39m\u001b[39mall\u001b[39m\u001b[39m'\u001b[39m)\n",
      "\u001b[1;31mNameError\u001b[0m: name 'tabula' is not defined"
     ]
    }
   ],
   "source": [
    "# Carregando o arquivo PDF\n",
    "lista_tabelas = tabula.read_pdf(\"Relat_3.pdf\", pages = 'all')"
   ]
  },
  {
   "cell_type": "code",
   "execution_count": 3,
   "id": "35a9bc72-5739-4cc7-9f03-71485fbf7291",
   "metadata": {},
   "outputs": [
    {
     "name": "stdout",
     "output_type": "stream",
     "text": [
      "6\n"
     ]
    }
   ],
   "source": [
    "# Analise da quantas páginas que foram carregadas\n",
    "print(len(lista_tabelas))"
   ]
  },
  {
   "attachments": {},
   "cell_type": "markdown",
   "id": "922d13b2-1c69-460c-80e7-b67132b351b0",
   "metadata": {},
   "source": [
    "# Criação e preenchimento das TABELAS"
   ]
  },
  {
   "cell_type": "code",
   "execution_count": 4,
   "id": "302997ce-f1df-45cb-9642-5b35d763ae4f",
   "metadata": {},
   "outputs": [],
   "source": [
    "# Obtendo somente a planilha 1 e transcrevendo os valores vazios com \"0 - \\r\"\n",
    "Grade_M = lista_tabelas[0].fillna(value=\"0 - \\r\")"
   ]
  },
  {
   "cell_type": "code",
   "execution_count": 5,
   "id": "1c3064cf-d2ec-456f-8d92-f90d6b145abc",
   "metadata": {},
   "outputs": [],
   "source": [
    "# Obtendo somente a planilha 2 e transcrevendo os valores vazios com \"0 - \\r\"\n",
    "Grade_V = lista_tabelas[1].fillna(value=\"0 - \\r\")"
   ]
  },
  {
   "cell_type": "code",
   "execution_count": 6,
   "id": "506fd4c0-b022-4a3b-bd81-b22e9f40bf39",
   "metadata": {},
   "outputs": [],
   "source": [
    "# 0 - \\r\" serão usados para divisões das colunas futuramente\n",
    "Grade_M = Grade_M.drop('Unnamed: 0', axis = 1)\n",
    "Grade_V = Grade_V.drop('Unnamed: 0', axis = 1)\n",
    "Grade_M = Grade_M.drop('Hr./Aula', axis = 1)\n",
    "Grade_V = Grade_V.drop('Hr./Aula', axis = 1)"
   ]
  },
  {
   "cell_type": "code",
   "execution_count": 7,
   "id": "87dae00c-eb58-46a0-9e04-0077e591c1bb",
   "metadata": {},
   "outputs": [],
   "source": [
    "# Removendo as colunas sobresalentes das planilhas\n",
    "Grade_M.columns = [\"Horario\",1,2,3,4,5]\n",
    "Grade_V.columns = [\"Horario\",1,2,3,4,5]"
   ]
  },
  {
   "attachments": {},
   "cell_type": "markdown",
   "id": "82b0bf1b-105f-45c1-8596-48dd91166814",
   "metadata": {},
   "source": [
    "# TRATAMENTO DAS COLUNAS"
   ]
  },
  {
   "cell_type": "code",
   "execution_count": 8,
   "id": "84c036c5-9cb8-42ce-82fa-d061b3d3dcb2",
   "metadata": {},
   "outputs": [],
   "source": [
    "for h in range (0,5):\n",
    "    Grade_M.iat[h,0] = Grade_M.iat[h,0][:5] + \"\\n\" + Grade_M.iat[h,0][6:]"
   ]
  },
  {
   "cell_type": "code",
   "execution_count": 9,
   "id": "c394694c-5c53-4320-9476-8de2b56d97ab",
   "metadata": {},
   "outputs": [],
   "source": [
    "for h in range (0,5):\n",
    "    Grade_V.iat[h,0] = Grade_V.iat[h,0][:5] + \"\\n\" + Grade_V.iat[h,0][6:]"
   ]
  },
  {
   "attachments": {},
   "cell_type": "markdown",
   "id": "dfa2ddac-5be1-4963-928e-5352c48a8cb0",
   "metadata": {},
   "source": [
    "### COLETA DE DADOS DAS DICIPLINAS"
   ]
  },
  {
   "cell_type": "code",
   "execution_count": 10,
   "id": "7521268e-ae9b-4d74-b047-c7552dec8083",
   "metadata": {},
   "outputs": [],
   "source": [
    "# Matutino\n",
    "Cod_Disc_M = [[],[],[],[],[]]\n",
    "for i in range(1,6):\n",
    "    Cod_Disc_M[i-1] = Grade_M[i].str.split(\" - \", expand = True)[0]\n"
   ]
  },
  {
   "cell_type": "code",
   "execution_count": 11,
   "id": "f38a726d-f1d2-4fa7-b5b4-d93ea06189c5",
   "metadata": {},
   "outputs": [],
   "source": [
    "# Vespertino\n",
    "Cod_Disc_V = [[],[],[],[],[]]\n",
    "for i in range(1,6):\n",
    "    Cod_Disc_V[i-1] = Grade_V[i].str.split(\" - \", expand = True)[0]\n"
   ]
  },
  {
   "attachments": {},
   "cell_type": "markdown",
   "id": "47b7b6c2-2445-4d4e-ba14-1157a9b29aaa",
   "metadata": {},
   "source": [
    "### COLETA DE DADOS DAS SALAS"
   ]
  },
  {
   "cell_type": "code",
   "execution_count": 12,
   "id": "28a027e7-cd24-4d64-bec2-4507d994fea7",
   "metadata": {},
   "outputs": [],
   "source": [
    "# Matutino\n",
    "Cod_Sala_M = [[],[],[],[],[]]\n",
    "for i in range(1,6):\n",
    "    Cod_Sala_M[i-1] = Grade_M[i].str.split(\"\\r\", expand = True)[1]\n"
   ]
  },
  {
   "cell_type": "code",
   "execution_count": 13,
   "id": "ed751504-43f3-45b8-a8a5-c68fc9151e82",
   "metadata": {},
   "outputs": [],
   "source": [
    "# Vespertino\n",
    "Cod_Sala_V = [[],[],[],[],[]]\n",
    "for i in range(1,6):\n",
    "    Cod_Sala_V[i-1] = Grade_V[i].str.split(\"\\r\", expand = True)[1]\n"
   ]
  },
  {
   "attachments": {},
   "cell_type": "markdown",
   "id": "cc6ad675-d3f3-4e04-b6fe-db29d934d7e0",
   "metadata": {},
   "source": [
    "*FIM DO TRATAMENTO DE COLUNAS*"
   ]
  },
  {
   "attachments": {},
   "cell_type": "markdown",
   "id": "45d2f559-23a1-45ca-98d7-834ce249b9a6",
   "metadata": {},
   "source": [
    "# Coleta *(Lista)* das diciplinas"
   ]
  },
  {
   "cell_type": "code",
   "execution_count": 14,
   "id": "80f59604-1cf3-419f-96e6-98ce9c6dc491",
   "metadata": {},
   "outputs": [],
   "source": [
    "#Localizando a tabela com as diciplinas (por padrão a ultima planilha)\n",
    "diciplinas = lista_tabelas[len(lista_tabelas)-1]"
   ]
  },
  {
   "cell_type": "code",
   "execution_count": 15,
   "id": "e7144f84-7277-4893-bc7d-25af68092e48",
   "metadata": {},
   "outputs": [],
   "source": [
    "coluna_diciplina = diciplinas.columns[2]"
   ]
  },
  {
   "cell_type": "code",
   "execution_count": 16,
   "id": "f95744b6-ee6d-49fd-a6ca-4429a4dfbcc4",
   "metadata": {},
   "outputs": [],
   "source": [
    "#Preenchendo os valores NULOS (NaN) da coluna de codicos das diciplinas por um valor (qualquer n nulo)\n",
    "diciplinas[diciplinas.columns[0]] = diciplinas[diciplinas.columns[0]].fillna(value=int(1))"
   ]
  },
  {
   "attachments": {},
   "cell_type": "markdown",
   "id": "79a9fe73-9f5c-41e4-8b77-bf0f5304eb66",
   "metadata": {},
   "source": [
    "# Tratamento e associação das tabelas com a lista de diciplinas"
   ]
  },
  {
   "cell_type": "code",
   "execution_count": 17,
   "id": "bd2ca411-ed9f-45d2-8269-5568efe3e550",
   "metadata": {},
   "outputs": [],
   "source": [
    "dias = [\"Segunda\",\"Terça\",\"Quarta\",\"Quinta\",\"Sexta\"]"
   ]
  },
  {
   "cell_type": "code",
   "execution_count": 18,
   "id": "dc775862-cebc-497c-babf-d12c45410f20",
   "metadata": {},
   "outputs": [],
   "source": [
    "Grade_M.columns = ['Horário',]+dias\n",
    "Grade_V.columns = ['Horário',]+dias"
   ]
  },
  {
   "cell_type": "code",
   "execution_count": 19,
   "id": "120a6d35-aec5-4908-86a1-369530f712e3",
   "metadata": {},
   "outputs": [],
   "source": [
    "# Associando os codicos da grade dos dias das semanas com os codicos da tabela de diciplinas\n",
    "for h in range(0,5):\n",
    "    for j in range(0,5):\n",
    "        for x in range(0,len(diciplinas)):\n",
    "            # Caso o dia esteja sem aulas o horario permanece vazio\n",
    "            if int(Cod_Disc_M[h][j]) == 0:\n",
    "                Grade_M[dias[h]][j] = \" \"\n",
    "                break\n",
    "            else:\n",
    "                # Reescrevimento da grade com os nomes das diciplinas\n",
    "                if str(diciplinas.iat[x, 0]) == str(Cod_Disc_M[h][j]):\n",
    "                    Grade_M[dias[h]][j] = diciplinas.iat[x, 2][:17] + \"\\n\" + diciplinas.iat[x, 2][17:] + \" - \" + Cod_Sala_M[h][j]\n",
    "                    break"
   ]
  },
  {
   "cell_type": "code",
   "execution_count": 20,
   "id": "19bc4b24-c60e-41b5-9ef8-a2d9a41249c5",
   "metadata": {},
   "outputs": [],
   "source": [
    "# Associando os codicos da grade dos dias das semanas com os codicos da tabela de diciplinas\n",
    "for h in range(0,5):\n",
    "    for j in range(0,5):\n",
    "        for x in range(0,len(diciplinas)):\n",
    "            # Caso o dia esteja sem aulas o horario permanece vazio\n",
    "            if int(Cod_Disc_V[h][j]) == 0:\n",
    "                Grade_V[dias[h]][j] = \" \"\n",
    "                break\n",
    "            else:\n",
    "                # Reescrevimento da grade com os nomes das diciplinas\n",
    "                if str(diciplinas.iat[x, 0]) == str(Cod_Disc_V[h][j]):\n",
    "                    Grade_V[dias[h]][j] = diciplinas.iat[x, 2][:17] + \"\\n\" + diciplinas.iat[x, 2][17:] + \" - \" + Cod_Sala_V[h][j]\n",
    "                    break"
   ]
  },
  {
   "cell_type": "code",
   "execution_count": 21,
   "id": "6558f977-0468-4157-931d-d01c8af9bf8e",
   "metadata": {},
   "outputs": [],
   "source": [
    "titulo_pdf = []\n",
    "for i in Grade_M.columns:\n",
    "    titulo_pdf += i,\n"
   ]
  },
  {
   "cell_type": "code",
   "execution_count": 22,
   "id": "f5647b12-a1cd-4e7c-a74e-8b829bb3227f",
   "metadata": {},
   "outputs": [],
   "source": [
    "teste = [titulo_pdf]"
   ]
  },
  {
   "cell_type": "code",
   "execution_count": 23,
   "id": "a0dae454-facd-4bf2-9e6b-e297df2b5899",
   "metadata": {},
   "outputs": [],
   "source": [
    "for j in range(0,len(titulo_pdf)-1):\n",
    "    p0 = []\n",
    "    for i in titulo_pdf:\n",
    "        p0 += (Grade_M[i][j]),\n",
    "    teste += p0,"
   ]
  },
  {
   "cell_type": "code",
   "execution_count": 24,
   "id": "c54a99d0-7e86-4ce6-8b40-ba68b26233ba",
   "metadata": {},
   "outputs": [],
   "source": [
    "for j in range(0,len(titulo_pdf)-1):\n",
    "    p1 = []\n",
    "    for i in titulo_pdf:\n",
    "        p1 += (Grade_V[i][j]),\n",
    "    teste += p1,"
   ]
  },
  {
   "cell_type": "code",
   "execution_count": 25,
   "id": "ab187d5f-3368-4d46-b292-3f9a380fbeae",
   "metadata": {},
   "outputs": [],
   "source": [
    "def create_pdf(file_name):\n",
    "    \n",
    "    page_size = landscape(letter)\n",
    "    \n",
    "    # Cria um documento\n",
    "    doc = SimpleDocTemplate(file_name, pagesize=page_size)\n",
    "    \n",
    "    # Lista de elementos a serem adicionados ao documento\n",
    "    elements = []\n",
    "\n",
    "    # Define os dados da tabela\n",
    "    horario_pdf = [teste]\n",
    "    \n",
    "    # Cria a tabela\n",
    "    def_tab = 140\n",
    "    table_dias = Table(teste, colWidths = [48, def_tab, def_tab, def_tab, def_tab, def_tab])\n",
    "    \n",
    "    # Define o estilo da tabela\n",
    "    style = TableStyle([\n",
    "        ('BACKGROUND', (0, 0), (-1, 0), colors.grey),\n",
    "        ('TEXTCOLOR', (0, 0), (-1, 0), colors.whitesmoke),\n",
    "        ('ALIGN', (0, 0), (-1, -1), 'CENTER'),\n",
    "        ('FONTNAME', (0, 0), (-1, 0), 'Helvetica-Bold'),\n",
    "        ('BOTTOMPADDING', (0, 0), (-1, 0), 12),\n",
    "        ('BACKGROUND', (0, 1), (-1, -1), colors.whitesmoke),\n",
    "        ('GRID', (0, 0), (-1, -1), 1, colors.black),\n",
    "        ('FONTSIZE', (1, 1), (-1, -1), 8),\n",
    "        ('FONTSIZE', (0, 1), (0, -1), 9),\n",
    "    ])\n",
    "    table_dias.setStyle(style)\n",
    "    \n",
    "    # Adiciona a tabela à lista de elementos\n",
    "    #elements.append(table)\n",
    "    elements.append(table_dias)\n",
    "    \n",
    "    # Constrói o documento\n",
    "    doc.build(elements)\n",
    "\n",
    "if __name__ == \"__main__\":\n",
    "    create_pdf(\"exemplo.pdf\")\n"
   ]
  }
 ],
 "metadata": {
  "kernelspec": {
   "display_name": "Python 3 (ipykernel)",
   "language": "python",
   "name": "python3"
  },
  "language_info": {
   "codemirror_mode": {
    "name": "ipython",
    "version": 3
   },
   "file_extension": ".py",
   "mimetype": "text/x-python",
   "name": "python",
   "nbconvert_exporter": "python",
   "pygments_lexer": "ipython3",
   "version": "3.12.4"
  }
 },
 "nbformat": 4,
 "nbformat_minor": 5
}
